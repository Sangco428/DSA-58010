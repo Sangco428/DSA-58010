{
  "nbformat": 4,
  "nbformat_minor": 0,
  "metadata": {
    "colab": {
      "provenance": [],
      "authorship_tag": "ABX9TyO/8GNWvhnkzt5ZZ/kQCosI",
      "include_colab_link": true
    },
    "kernelspec": {
      "name": "python3",
      "display_name": "Python 3"
    },
    "language_info": {
      "name": "python"
    }
  },
  "cells": [
    {
      "cell_type": "markdown",
      "metadata": {
        "id": "view-in-github",
        "colab_type": "text"
      },
      "source": [
        "<a href=\"https://colab.research.google.com/github/Sangco428/DSA-58010/blob/main/Python_Module.ipynb\" target=\"_parent\"><img src=\"https://colab.research.google.com/assets/colab-badge.svg\" alt=\"Open In Colab\"/></a>"
      ]
    },
    {
      "cell_type": "markdown",
      "source": [
        "Example 1"
      ],
      "metadata": {
        "id": "mSg7nl8I5_a4"
      }
    },
    {
      "cell_type": "code",
      "execution_count": 4,
      "metadata": {
        "colab": {
          "base_uri": "https://localhost:8080/"
        },
        "id": "sUm0MEoK5SCN",
        "outputId": "bbd02f8c-a7a4-49de-a5c7-9927fe9e7b3b"
      },
      "outputs": [
        {
          "output_type": "stream",
          "name": "stdout",
          "text": [
            "i\n",
            "f\n"
          ]
        }
      ],
      "source": [
        "import array\n",
        "array.typecodes #to get all typecodes\n",
        "\n",
        "a=array.array('i', [1,2,3,4,5,6]) #initializing array \"a\"\n",
        "b=array.array('f', [1.5,2.5,3.5,4.5,5.5,6.5]) #initializing array \"b\"\n",
        "print(a.typecode) #getting the typecode of \"a\"\n",
        "print(b.typecode) #getting the typecode of \"b\""
      ]
    },
    {
      "cell_type": "markdown",
      "source": [
        "Example 2 Create/convert the elements of array A to float/decimal"
      ],
      "metadata": {
        "id": "QAz2l26b84Tt"
      }
    },
    {
      "cell_type": "code",
      "source": [
        "A = array.array('f',[1,2,3,4,5,6]) #initializing elements of array \"A\"\n",
        "print(A)"
      ],
      "metadata": {
        "colab": {
          "base_uri": "https://localhost:8080/"
        },
        "id": "CivYcAYX9AZg",
        "outputId": "3212a734-2c43-43a8-bf14-8975cda5b9b5"
      },
      "execution_count": 9,
      "outputs": [
        {
          "output_type": "stream",
          "name": "stdout",
          "text": [
            "array('f', [1.0, 2.0, 3.0, 4.0, 5.0, 6.0])\n"
          ]
        }
      ]
    },
    {
      "cell_type": "markdown",
      "source": [
        "Example 3"
      ],
      "metadata": {
        "id": "DhwY0zbSAWgK"
      }
    },
    {
      "cell_type": "code",
      "source": [
        "import array\n",
        "a = array.array('i', [4,5,6,7]) #initialize array a\n",
        "a.insert(1,2) #insert element: 2 to index 1\n",
        "print(a)\n",
        "a.insert(-1,0) #insert element:0 to index -1\n",
        "print(a)\n",
        "a.insert(6,8) # insert element:8 to the index 6 which is out of range\n",
        "print(a) #append the last element of the array\n",
        "b[0] = 5\n",
        "b[1] = 4\n",
        "b[2] = 3\n",
        "print(b)"
      ],
      "metadata": {
        "colab": {
          "base_uri": "https://localhost:8080/"
        },
        "id": "dnmCHi-UAY3T",
        "outputId": "63b9a55b-d3d3-44d1-9e71-02187199b215"
      },
      "execution_count": 16,
      "outputs": [
        {
          "output_type": "stream",
          "name": "stdout",
          "text": [
            "array('i', [4, 2, 5, 6, 7])\n",
            "array('i', [4, 2, 5, 6, 0, 7])\n",
            "array('i', [4, 2, 5, 6, 0, 7, 8])\n",
            "array('f', [5.0, 4.0, 3.0, 4.5, 5.5, 9.0])\n"
          ]
        }
      ]
    },
    {
      "cell_type": "markdown",
      "source": [
        "#Linked Lists"
      ],
      "metadata": {
        "id": "5haSP4HHGy84"
      }
    },
    {
      "cell_type": "code",
      "source": [
        "#functions that creates node object\n",
        "\n",
        "class Node:\n",
        "    def __init__ (self, data):\n",
        "      self.data = data #assign data\n",
        "      self.next = None #initialize as node\n",
        "\n",
        "#function that creates Linked list object\n",
        "\n",
        "class LinkedList:\n",
        "  def __init__ (self):\n",
        "    self.head = None #initialize head as null\n",
        "    self.second = None\n",
        "\n",
        "  def printlist(self):\n",
        "    temp = self.head\n",
        "    while(temp!=None):\n",
        "      print(temp.data)\n",
        "      temp = temp.next\n",
        "\n",
        "\n",
        "\n",
        "\n",
        "list = LinkedList() #empty list\n",
        "list.head = Node(1)\n",
        "second = Node(2)\n",
        "third = Node(3)\n",
        "\n",
        "list.head.next=second\n",
        "second.next = third\n",
        "\n",
        "list.printlist()"
      ],
      "metadata": {
        "colab": {
          "base_uri": "https://localhost:8080/"
        },
        "id": "oAuAL5qKGynz",
        "outputId": "0f1614c7-330c-4d85-c75f-8ecda9af6d04"
      },
      "execution_count": 20,
      "outputs": [
        {
          "output_type": "stream",
          "name": "stdout",
          "text": [
            "1\n",
            "2\n",
            "3\n"
          ]
        }
      ]
    }
  ]
}