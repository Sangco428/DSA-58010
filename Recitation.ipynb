{
  "nbformat": 4,
  "nbformat_minor": 0,
  "metadata": {
    "colab": {
      "provenance": [],
      "authorship_tag": "ABX9TyOFL8Gtyu9l3ArKTgedIqaG",
      "include_colab_link": true
    },
    "kernelspec": {
      "name": "python3",
      "display_name": "Python 3"
    },
    "language_info": {
      "name": "python"
    }
  },
  "cells": [
    {
      "cell_type": "markdown",
      "metadata": {
        "id": "view-in-github",
        "colab_type": "text"
      },
      "source": [
        "<a href=\"https://colab.research.google.com/github/Sangco428/DSA-58010/blob/main/Recitation.ipynb\" target=\"_parent\"><img src=\"https://colab.research.google.com/assets/colab-badge.svg\" alt=\"Open In Colab\"/></a>"
      ]
    },
    {
      "cell_type": "code",
      "execution_count": 2,
      "metadata": {
        "colab": {
          "base_uri": "https://localhost:8080/",
          "height": 122
        },
        "id": "Brd6c9sH2A7a",
        "outputId": "03fc41fb-d743-470b-ae64-440f0705cd89"
      },
      "outputs": [
        {
          "output_type": "stream",
          "name": "stdout",
          "text": [
            "Sight\n",
            "Hearing\n",
            "Smell\n",
            "Taste\n",
            "Touch\n"
          ]
        },
        {
          "output_type": "execute_result",
          "data": {
            "text/plain": [
              "'Touch'"
            ],
            "application/vnd.google.colaboratory.intrinsic+json": {
              "type": "string"
            }
          },
          "metadata": {},
          "execution_count": 2
        }
      ],
      "source": [
        "#python program to demo stack using Linked List\n",
        "class Node:\n",
        "  def __init__(self,data):\n",
        "    self.data = data\n",
        "    self.next = None  #initializing as null\n",
        "    self.head = []\n",
        "\n",
        "class LinkedList: \n",
        "  def __init__(self):\n",
        "    self.head = None #initializing the head as null\n",
        "\n",
        "  def printList(self):\n",
        "      temp = self.head\n",
        "      while(temp):\n",
        "        print(temp.data)\n",
        "        temp = temp.next\n",
        "\n",
        "  def is_empty(self):\n",
        "      if self.head == None:\n",
        "        return True\n",
        "      else:\n",
        "        return False\n",
        "\n",
        "  def remove(self):\n",
        "      if self.is_empty():\n",
        "        return None\n",
        "      else:\n",
        "        removednode = fifth\n",
        "        return removednode.data\n",
        "\n",
        "\n",
        "mylist = LinkedList()\n",
        "mylist.head = Node(\"Sight\")\n",
        "second = Node(\"Hearing\")\n",
        "third = Node(\"Smell\")\n",
        "fourth = Node(\"Taste\")\n",
        "fifth = Node(\"Touch\")\n",
        "\n",
        "mylist.head.next = second\n",
        "second.next = third\n",
        "third.next = fourth\n",
        "fourth.next = fifth\n",
        "mylist.printList()\n",
        "mylist.remove()"
      ]
    }
  ]
}