{
  "nbformat": 4,
  "nbformat_minor": 0,
  "metadata": {
    "colab": {
      "provenance": [],
      "authorship_tag": "ABX9TyP3D8UyRmGaGu9v8RakcGRV",
      "include_colab_link": true
    },
    "kernelspec": {
      "name": "python3",
      "display_name": "Python 3"
    },
    "language_info": {
      "name": "python"
    }
  },
  "cells": [
    {
      "cell_type": "markdown",
      "metadata": {
        "id": "view-in-github",
        "colab_type": "text"
      },
      "source": [
        "<a href=\"https://colab.research.google.com/github/Sangco428/DSA-58010/blob/main/Prelim_Exam.ipynb\" target=\"_parent\"><img src=\"https://colab.research.google.com/assets/colab-badge.svg\" alt=\"Open In Colab\"/></a>"
      ]
    },
    {
      "cell_type": "code",
      "execution_count": 6,
      "metadata": {
        "colab": {
          "base_uri": "https://localhost:8080/"
        },
        "id": "OqsNViqhlr__",
        "outputId": "05456626-4a80-4b26-80dd-21015415613e"
      },
      "outputs": [
        {
          "output_type": "stream",
          "name": "stdout",
          "text": [
            "the original set of numbers is: [1, 2, 3, 4, 5, 6, 7, 8, 9, 10] in which it has a length of  10\n",
            "the composite numbers are:  [2, 4, 6, 8, 10] With a length of: 5\n"
          ]
        }
      ],
      "source": [
        "A = [1,2,3,4,5,6,7,8,9,10] \n",
        "number = [] \n",
        "for i in A: \n",
        "  if i%2 == 0:\n",
        "    number.append(i) \n",
        "lengthA = len(A)\n",
        "lengthB = len(number) \n",
        "print(\"the original set of numbers is:\", A, \"in which it has a length of \", lengthA) \n",
        "print(\"the composite numbers are: \",number, \"With a length of:\", lengthB)"
      ]
    }
  ]
}