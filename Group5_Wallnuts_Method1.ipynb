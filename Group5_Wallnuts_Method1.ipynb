{
  "nbformat": 4,
  "nbformat_minor": 0,
  "metadata": {
    "colab": {
      "provenance": [],
      "authorship_tag": "ABX9TyOTgjt0xAIPCp8yxbhQTl+9",
      "include_colab_link": true
    },
    "kernelspec": {
      "name": "python3",
      "display_name": "Python 3"
    },
    "language_info": {
      "name": "python"
    }
  },
  "cells": [
    {
      "cell_type": "markdown",
      "metadata": {
        "id": "view-in-github",
        "colab_type": "text"
      },
      "source": [
        "<a href=\"https://colab.research.google.com/github/Sangco428/DSA-58010/blob/main/Group5_Wallnuts_Method1.ipynb\" target=\"_parent\"><img src=\"https://colab.research.google.com/assets/colab-badge.svg\" alt=\"Open In Colab\"/></a>"
      ]
    },
    {
      "cell_type": "code",
      "execution_count": null,
      "metadata": {
        "colab": {
          "base_uri": "https://localhost:8080/"
        },
        "id": "qoRidxIQB7RN",
        "outputId": "7ce1876b-1af0-46f2-cbd9-36625972f6ef"
      },
      "outputs": [
        {
          "output_type": "stream",
          "name": "stdout",
          "text": [
            "4\n"
          ]
        }
      ],
      "source": [
        "A = [1, 2, 3, 4, 5, 4]\n",
        "\n",
        "for i in range(0, len(A)):    \n",
        "    for j in range(i+1, len(A)):    \n",
        "        if(A[i] == A[j]):    \n",
        "            print(A[j]);"
      ]
    },
    {
      "cell_type": "markdown",
      "source": [
        "Alternate Program"
      ],
      "metadata": {
        "id": "2jwlA1bGLPGs"
      }
    },
    {
      "cell_type": "code",
      "source": [
        "A = [];     \n",
        "n = int(input(\"Please input array size: \"))\n",
        "for k in range(0, n):\n",
        "  x = int(input(\"Please enter element: \"))\n",
        "  A.append(x)\n",
        "     \n",
        "print(\"Elements that has a repeat in given array: \");    \n",
        "#Searches for repeated element    \n",
        "for i in range(0, len(A)):    \n",
        "    for j in range(i+1, len(A)):    \n",
        "        if(A[i] == A[j]):    \n",
        "            print(A[j]);"
      ],
      "metadata": {
        "colab": {
          "base_uri": "https://localhost:8080/"
        },
        "id": "_Y_uTcB2oWDR",
        "outputId": "2edecaee-86bd-45b4-95c3-f01678a1c317"
      },
      "execution_count": 9,
      "outputs": [
        {
          "output_type": "stream",
          "name": "stdout",
          "text": [
            "Please input array size: 10\n",
            "Please enter element: 9\n",
            "Please enter element: 8\n",
            "Please enter element: 1\n",
            "Please enter element: 4\n",
            "Please enter element: 3\n",
            "Please enter element: 2\n",
            "Please enter element: 8\n",
            "Please enter element: 5\n",
            "Please enter element: 6\n",
            "Please enter element: 7\n",
            "Elements that has a repeat in given array: \n",
            "8\n"
          ]
        }
      ]
    }
  ]
}