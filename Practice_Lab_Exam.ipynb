{
  "nbformat": 4,
  "nbformat_minor": 0,
  "metadata": {
    "colab": {
      "name": "Practice Lab Exam.ipynb",
      "provenance": [],
      "authorship_tag": "ABX9TyO/BI5GeHogYdkg5DHnGRji",
      "include_colab_link": true
    },
    "kernelspec": {
      "name": "python3",
      "display_name": "Python 3"
    },
    "language_info": {
      "name": "python"
    }
  },
  "cells": [
    {
      "cell_type": "markdown",
      "metadata": {
        "id": "view-in-github",
        "colab_type": "text"
      },
      "source": [
        "<a href=\"https://colab.research.google.com/github/Sangco428/DSA-58010/blob/main/Practice_Lab_Exam.ipynb\" target=\"_parent\"><img src=\"https://colab.research.google.com/assets/colab-badge.svg\" alt=\"Open In Colab\"/></a>"
      ]
    },
    {
      "cell_type": "markdown",
      "source": [
        "Summing Scores in Array"
      ],
      "metadata": {
        "id": "I9OkZR_1ozJJ"
      }
    },
    {
      "cell_type": "code",
      "execution_count": 24,
      "metadata": {
        "colab": {
          "base_uri": "https://localhost:8080/"
        },
        "id": "Cutvq2RwcYF2",
        "outputId": "e7f97e22-0c9e-48a3-8f1a-7d2e58957aa4"
      },
      "outputs": [
        {
          "output_type": "stream",
          "name": "stdout",
          "text": [
            "the summed scores of all even numbers are 186\n"
          ]
        }
      ],
      "source": [
        "iscores = [26, 49, 98, 87, 62, 75]\n",
        "fscores = 0\n",
        "\n",
        "for i in iscores:\n",
        "  if i % 2 == 0:\n",
        "    fscores = fscores + i \n",
        "        \n",
        "print(\"the summed scores of all even numbers are\",fscores)"
      ]
    }
  ]
}