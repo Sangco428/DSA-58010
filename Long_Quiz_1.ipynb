{
  "nbformat": 4,
  "nbformat_minor": 0,
  "metadata": {
    "colab": {
      "provenance": [],
      "authorship_tag": "ABX9TyNJjVKhPSPEUJznXTjoKfFZ",
      "include_colab_link": true
    },
    "kernelspec": {
      "name": "python3",
      "display_name": "Python 3"
    },
    "language_info": {
      "name": "python"
    }
  },
  "cells": [
    {
      "cell_type": "markdown",
      "metadata": {
        "id": "view-in-github",
        "colab_type": "text"
      },
      "source": [
        "<a href=\"https://colab.research.google.com/github/Sangco428/DSA-58010/blob/main/Long_Quiz_1.ipynb\" target=\"_parent\"><img src=\"https://colab.research.google.com/assets/colab-badge.svg\" alt=\"Open In Colab\"/></a>"
      ]
    },
    {
      "cell_type": "markdown",
      "source": [],
      "metadata": {
        "id": "xC6jRmeWf013"
      }
    },
    {
      "cell_type": "markdown",
      "source": [
        "Algorithm #1"
      ],
      "metadata": {
        "id": "303l1ZvZgUFq"
      }
    },
    {
      "cell_type": "code",
      "source": [
        "name = [\"J\", \"E\", \"R\", \"R\", \"O\", \"L\", \"D\", \" \", \"C\", \"O\", \"R\", \"N\", \"E\", \"L\",\"I\", \"U\", \"S\", \" \", \"M\", \".\", \" \",\"S\", \"A\", \"N\", \"G\", \"C\", \"O\"] #This creates an array containing the name\n",
        "name.reverse()  #using this function it reverses the contents of the array\n",
        "for x in name:  #using the for loop it will print the letters found in the array.\n",
        "    print(x, \" \", end='') #and lastly using the print function it will print all letters corresponding\n",
        "                          #to the x"
      ],
      "metadata": {
        "colab": {
          "base_uri": "https://localhost:8080/"
        },
        "id": "cISSEq9Nf0hu",
        "outputId": "fe647eb4-74f8-4f96-b082-6e539787e922"
      },
      "execution_count": 6,
      "outputs": [
        {
          "output_type": "stream",
          "name": "stdout",
          "text": [
            "O  C  G  N  A  S     .  M     S  U  I  L  E  N  R  O  C     D  L  O  R  R  E  J  "
          ]
        }
      ]
    },
    {
      "cell_type": "markdown",
      "source": [
        "Algorithm #2"
      ],
      "metadata": {
        "id": "bU3E-xHdenkD"
      }
    },
    {
      "cell_type": "code",
      "execution_count": 2,
      "metadata": {
        "colab": {
          "base_uri": "https://localhost:8080/"
        },
        "id": "khOH93skd0pX",
        "outputId": "0364ba35-e21f-4e04-8114-689c6cccf4e3"
      },
      "outputs": [
        {
          "output_type": "stream",
          "name": "stdout",
          "text": [
            "Please enter your full name: Jerrold Cornelius M. Sangco\n",
            "o  c  g  n  a  S     .  M     s  u  i  l  e  n  r  o  C     d  l  o  r  r  e  J  "
          ]
        }
      ],
      "source": [
        "import numpy as numpy #Using this library it allows us to do different programs\n",
        "                      #relating to arrays\n",
        "fullname = input(str(\"Please enter your full name: \")) #Using this will allow us to input any name\n",
        "                                                #that it will reverse\n",
        "fullname_array = numpy.array(list(fullname))  #In this function it tells that source \n",
        "                              #text will come from the variable fullname in which it will convert the\n",
        "                              #string into an array\n",
        "rev = fullname_array[::-1]    #using variable rev it will be the reverse the fullname_array, \n",
        "                              #for that to happen using [::-1] will reverse the order\n",
        "\n",
        "for x in rev:                 #using the for loop it will print the letters found in the array.\n",
        "    print(x, \" \", end='')     #and lastly using the print function it will print all letters corresponding\n",
        "                              #to the x"
      ]
    }
  ]
}