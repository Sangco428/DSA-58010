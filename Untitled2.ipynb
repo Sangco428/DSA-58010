{
  "nbformat": 4,
  "nbformat_minor": 0,
  "metadata": {
    "colab": {
      "name": "Untitled2.ipynb",
      "provenance": [],
      "authorship_tag": "ABX9TyPngbOfX/Y5ZW2n5Ylamc9s",
      "include_colab_link": true
    },
    "kernelspec": {
      "name": "python3",
      "display_name": "Python 3"
    },
    "language_info": {
      "name": "python"
    }
  },
  "cells": [
    {
      "cell_type": "markdown",
      "metadata": {
        "id": "view-in-github",
        "colab_type": "text"
      },
      "source": [
        "<a href=\"https://colab.research.google.com/github/Sangco428/DSA-58010/blob/main/Untitled2.ipynb\" target=\"_parent\"><img src=\"https://colab.research.google.com/assets/colab-badge.svg\" alt=\"Open In Colab\"/></a>"
      ]
    },
    {
      "cell_type": "markdown",
      "source": [
        "#Polymorphism and Inheritance"
      ],
      "metadata": {
        "id": "bFT-d7wUM9tr"
      }
    },
    {
      "cell_type": "code",
      "execution_count": 1,
      "metadata": {
        "colab": {
          "base_uri": "https://localhost:8080/"
        },
        "id": "H_j_tnffMkww",
        "outputId": "3a4797b9-aa6b-41a3-fc47-29978b9276c9"
      },
      "outputs": [
        {
          "output_type": "stream",
          "name": "stdout",
          "text": [
            "16\n",
            "21\n",
            "16\n",
            "20\n"
          ]
        }
      ],
      "source": [
        "class Shape: #this is the parent class, in which it has prepared the methods that will be inherited to the child classes\n",
        "    def Area(self):\n",
        "        pass\n",
        "    def Perimeter(self):\n",
        "        pass\n",
        "class Rectangle:#this class Rectangle is unrelated to the class shape but it has used the \n",
        "    def __init__(self, side1, side2): #same methods as the class shape\n",
        "        self.side1 = side1\n",
        "        self.side2 = side2\n",
        "    def Area(self):\n",
        "        print(self.side1*self.side2)\n",
        "    def Perimeter(self):\n",
        "        print(2*(self.side1+self.side2))\n",
        "\n",
        "class Square(Shape): #it is apparent here that the child class has inherited the parent class Shape \n",
        "    def __init__(self, side): #and filled the methods that is empty due to the usage of pass. It has \n",
        "        self.side = side #used the concept polymorphism because it has manipulated and changed the \n",
        "    def Area(self): #the orignal method from the original methods used in the parent class.\n",
        "        print(self.side**2)\n",
        "    def Perimeter(self):\n",
        "        print(self.side*4)\n",
        "square = Square(4)\n",
        "square.Area()\n",
        "\n",
        "rect=Rectangle(7,3)\n",
        "rect.Area()\n",
        "\n",
        "square.Perimeter()\n",
        "rect.Perimeter()"
      ]
    }
  ]
}