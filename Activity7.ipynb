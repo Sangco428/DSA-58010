{
  "nbformat": 4,
  "nbformat_minor": 0,
  "metadata": {
    "colab": {
      "provenance": [],
      "authorship_tag": "ABX9TyOa4NOs4yh/p5R9nOE9MbkV",
      "include_colab_link": true
    },
    "kernelspec": {
      "name": "python3",
      "display_name": "Python 3"
    },
    "language_info": {
      "name": "python"
    }
  },
  "cells": [
    {
      "cell_type": "markdown",
      "metadata": {
        "id": "view-in-github",
        "colab_type": "text"
      },
      "source": [
        "<a href=\"https://colab.research.google.com/github/Sangco428/DSA-58010/blob/main/Activity7.ipynb\" target=\"_parent\"><img src=\"https://colab.research.google.com/assets/colab-badge.svg\" alt=\"Open In Colab\"/></a>"
      ]
    },
    {
      "cell_type": "code",
      "execution_count": 2,
      "metadata": {
        "colab": {
          "base_uri": "https://localhost:8080/"
        },
        "id": "FAPdZ3repoFn",
        "outputId": "8d18d6b1-3b1c-4301-d610-213c73e63523"
      },
      "outputs": [
        {
          "output_type": "stream",
          "name": "stdout",
          "text": [
            "{'E': [['I', 33], ['J', 58], ['K', 41], ['M', 69]], 'F': [['I', 43], ['J', 32], ['K', 51], ['P', 70]], 'H': [['I', 16], ['J', 22], ['K', 100]], 'I': [['E', 33], ['F', 43], ['H', 16]], 'J': [['E', 58], ['F', 32], ['H', 22]], 'K': [['E', 41], ['F', 51], ['H', 100]], 'M': [['E', 69]], 'P': [['F', 70]]}\n"
          ]
        }
      ],
      "source": [
        "#Implementation of Graph28 (V,E)\n",
        "\n",
        "G28 ={\n",
        "    'E': [['I',33], ['J', 58], ['K', 41], ['M', 69]] ,\n",
        "    'F': [['I',43], ['J', 32], ['K', 51], ['P', 70]] ,\n",
        "    'H': [['I',16], ['J', 22], ['K', 100]] ,\n",
        "    'I': [['E',33], ['F', 43], ['H', 16]] ,\n",
        "    'J': [['E',58], ['F', 32], ['H', 22]] ,\n",
        "    'K': [['E',41], ['F', 51], ['H', 100]] ,\n",
        "    'M': [['E',69]] , \n",
        "    'P': [['F',70]]\n",
        "}\n",
        "\n",
        "print(G28)"
      ]
    }
  ]
}