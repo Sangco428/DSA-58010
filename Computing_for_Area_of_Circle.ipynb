{
  "nbformat": 4,
  "nbformat_minor": 0,
  "metadata": {
    "colab": {
      "name": "Computing for Area of Circle.ipynb",
      "provenance": [],
      "authorship_tag": "ABX9TyP/mXTHEJfU+0ZN/II2LXKB",
      "include_colab_link": true
    },
    "kernelspec": {
      "name": "python3",
      "display_name": "Python 3"
    },
    "language_info": {
      "name": "python"
    }
  },
  "cells": [
    {
      "cell_type": "markdown",
      "metadata": {
        "id": "view-in-github",
        "colab_type": "text"
      },
      "source": [
        "<a href=\"https://colab.research.google.com/github/Sangco428/DSA-58010/blob/main/Computing_for_Area_of_Circle.ipynb\" target=\"_parent\"><img src=\"https://colab.research.google.com/assets/colab-badge.svg\" alt=\"Open In Colab\"/></a>"
      ]
    },
    {
      "cell_type": "markdown",
      "source": [
        "Computing for Area"
      ],
      "metadata": {
        "id": "LraNCJNzUSsx"
      }
    },
    {
      "cell_type": "code",
      "execution_count": 21,
      "metadata": {
        "colab": {
          "base_uri": "https://localhost:8080/"
        },
        "id": "aorlbzscSlOs",
        "outputId": "adb81acb-214a-403f-e09c-1716e658c480"
      },
      "outputs": [
        {
          "output_type": "stream",
          "name": "stdout",
          "text": [
            "From Radius (1) or From Diameter (2): 1\n",
            "Please input your radius: 1\n",
            "3.14\n"
          ]
        }
      ],
      "source": [
        "p = 3.14\n",
        "q = int(input(\"From Radius (1) or From Diameter (2): \"))\n",
        "if q == 1:\n",
        "  r  = int(input(\"Please input your radius: \"))\n",
        "  a = (r**2)*p \n",
        "else:\n",
        "  r = int(input(\"Please input your diameter: \"))\n",
        "  a = ((r/2)**2)*p\n",
        "print(a)\n"
      ]
    }
  ]
}